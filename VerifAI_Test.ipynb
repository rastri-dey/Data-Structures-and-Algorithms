{
  "nbformat": 4,
  "nbformat_minor": 0,
  "metadata": {
    "colab": {
      "provenance": [],
      "authorship_tag": "ABX9TyN9rFLDyahXGX9K5Pk4+asO",
      "include_colab_link": true
    },
    "kernelspec": {
      "name": "python3",
      "display_name": "Python 3"
    },
    "language_info": {
      "name": "python"
    }
  },
  "cells": [
    {
      "cell_type": "markdown",
      "metadata": {
        "id": "view-in-github",
        "colab_type": "text"
      },
      "source": [
        "<a href=\"https://colab.research.google.com/github/rastri-dey/Data-Structures-and-Algorithms/blob/main/VerifAI_Test.ipynb\" target=\"_parent\"><img src=\"https://colab.research.google.com/assets/colab-badge.svg\" alt=\"Open In Colab\"/></a>"
      ]
    },
    {
      "cell_type": "code",
      "execution_count": null,
      "metadata": {
        "id": "TeAi6AsIx4Cg"
      },
      "outputs": [],
      "source": [
        "import os.path\n",
        "path = os.path.join(os.path.dirname(__file__), 'newtonian/carlaChallenge2.scenic')"
      ]
    },
    {
      "cell_type": "markdown",
      "source": [
        "MTL Specification"
      ],
      "metadata": {
        "id": "LrGlXT4g_hC0"
      }
    },
    {
      "cell_type": "code",
      "source": [
        "from abc import ABC\n",
        "import networkx as nx\n",
        "import mtl\n",
        "\n",
        "class specification_monitor(ABC):\n",
        "    def __init__(self, specification):\n",
        "        self.specification = specification\n",
        "\n",
        "    def evaluate(self, traj):\n",
        "        return self.specification(traj)\n",
        "\n",
        "\n",
        "class mtl_specification(specification_monitor):\n",
        "    def __init__(self, specification):\n",
        "        mtl_specs = [mtl.parse(spec) for spec in specification]\n",
        "        mtl_spec = mtl_specs[0]\n",
        "        if len(mtl_specs) > 1:\n",
        "            for spec in mtl_specs[1:]:\n",
        "                mtl_spec = (mtl_spec & spec)\n",
        "        super().__init__(mtl_spec)\n",
        "\n",
        "    def evaluate(self, traj):\n",
        "        return self.specification(traj)"
      ],
      "metadata": {
        "id": "8nltjYz-_lOw"
      },
      "execution_count": null,
      "outputs": []
    },
    {
      "cell_type": "markdown",
      "source": [
        "To use the mtl_specification class, you would first need to define your MTL specifications as strings. You could then create an instance of the class and pass the specifications to the constructor. Finally, you could call the evaluate() method with a trajectory to check if it satisfies the specifications.\n",
        "\n",
        "**Initialization:**\n",
        "The constructor takes a specification argument, which is expected to be a list of MTL specifications represented as strings.\n",
        "It parses each specification using the mtl.parse() function and stores them in a list called mtl_specs.\n",
        "If there are multiple specifications, it performs a bitwise AND operation on them using the & operator to obtain a combined specification.\n",
        "Finally, it calls the __init__() method of the parent class (specification_monitor) with the combined specification.\n",
        "\n",
        "**Evaluation:**\n",
        "The evaluate() method takes a traj argument, which presumably represents a trajectory or sequence of data points.\n",
        "It evaluates the combined MTL specification on the trajectory using the () operator.\n",
        "\n",
        "**Explanation:**\n",
        "The mtl.parse() function is assumed to be from the mtl library and is responsible for parsing MTL specifications from strings.\n",
        "The bitwise AND operation (&) combines multiple MTL specifications into a single specification that represents the intersection of their requirements.\n",
        "The specification_monitor class is not provided in the context, so its functionality is not clear. However, it is likely related to monitoring the satisfaction of MTL specifications."
      ],
      "metadata": {
        "id": "Qsnj18Tn_sm_"
      }
    }
  ]
}